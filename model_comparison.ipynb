{
 "cells": [
  {
   "cell_type": "code",
   "execution_count": 1,
   "metadata": {},
   "outputs": [
    {
     "name": "stderr",
     "output_type": "stream",
     "text": [
      "/Users/liamoreilly/Desktop/CornellTech/AI-detection/.venv/lib/python3.12/site-packages/tqdm/auto.py:21: TqdmWarning: IProgress not found. Please update jupyter and ipywidgets. See https://ipywidgets.readthedocs.io/en/stable/user_install.html\n",
      "  from .autonotebook import tqdm as notebook_tqdm\n"
     ]
    }
   ],
   "source": [
    "import pandas as pd\n",
    "import numpy as np\n",
    "from datasets import load_dataset"
   ]
  },
  {
   "cell_type": "code",
   "execution_count": 2,
   "metadata": {},
   "outputs": [],
   "source": [
    "dataset = load_dataset(\"Hello-SimpleAI/HC3\", name='all')\n",
    "dataset = dataset['train'].to_pandas()"
   ]
  },
  {
   "cell_type": "code",
   "execution_count": 5,
   "metadata": {},
   "outputs": [
    {
     "data": {
      "text/plain": [
       "24322"
      ]
     },
     "execution_count": 5,
     "metadata": {},
     "output_type": "execute_result"
    }
   ],
   "source": [
    "len(dataset)"
   ]
  },
  {
   "cell_type": "code",
   "execution_count": 6,
   "metadata": {},
   "outputs": [],
   "source": [
    "num_prompts = 1000"
   ]
  },
  {
   "cell_type": "code",
   "execution_count": 7,
   "metadata": {},
   "outputs": [],
   "source": [
    "reduced_df = dataset.head(num_prompts).drop(columns=['source'])\n",
    "\n",
    "human_df = reduced_df[['human_answers']].rename(columns={'human_answers':'text'})\n",
    "human_df['prompt_id'] = reduced_df[\"id\"]\n",
    "human_df['text'] = human_df['text'].apply(lambda x: ''.join(x))\n",
    "human_df['label'] = 0\n",
    "\n",
    "llm_df = reduced_df[['chatgpt_answers']].rename(columns={'chatgpt_answers':'text'})\n",
    "llm_df['prompt_id'] = reduced_df[\"id\"]\n",
    "llm_df['text'] = llm_df['text'].apply(lambda x: ''.join(x))\n",
    "llm_df['label'] = 1\n",
    "\n",
    "full_df = pd.concat((human_df, llm_df), axis=0, ignore_index=True)\n",
    "full_df = full_df[['prompt_id', 'text', 'label']]"
   ]
  },
  {
   "cell_type": "code",
   "execution_count": 8,
   "metadata": {},
   "outputs": [],
   "source": [
    "X = full_df['text']\n",
    "y = full_df['label']"
   ]
  },
  {
   "cell_type": "code",
   "execution_count": 9,
   "metadata": {
    "id": "DYMqLv5uC7ot"
   },
   "outputs": [],
   "source": [
    "from sklearn.model_selection import train_test_split\n",
    "from sklearn.feature_extraction.text import TfidfVectorizer"
   ]
  },
  {
   "cell_type": "code",
   "execution_count": 10,
   "metadata": {},
   "outputs": [],
   "source": [
    "X_train, X_test, y_train, y_test = train_test_split(X, y, test_size=0.2)"
   ]
  },
  {
   "cell_type": "code",
   "execution_count": 11,
   "metadata": {
    "id": "6VaqokSpC7rW"
   },
   "outputs": [],
   "source": [
    "vectorizer = TfidfVectorizer()\n",
    "X_train_tfidf = vectorizer.fit_transform(X_train)\n",
    "X_test_tfidf = vectorizer.transform(X_test)"
   ]
  },
  {
   "cell_type": "code",
   "execution_count": 12,
   "metadata": {
    "id": "B_rCDKwQC7uE"
   },
   "outputs": [],
   "source": [
    "from sklearn.linear_model import LogisticRegression\n",
    "from sklearn.svm import SVC\n",
    "from sklearn.naive_bayes import MultinomialNB\n",
    "from sklearn.tree import DecisionTreeClassifier\n",
    "from sklearn.neighbors import KNeighborsClassifier\n",
    "from sklearn.ensemble import RandomForestClassifier\n",
    "from sklearn.ensemble import ExtraTreesClassifier\n",
    "from sklearn.ensemble import AdaBoostClassifier\n",
    "from sklearn.ensemble import BaggingClassifier\n",
    "from sklearn.ensemble import GradientBoostingClassifier\n",
    "from sklearn import metrics\n",
    "from sklearn.metrics import confusion_matrix"
   ]
  },
  {
   "cell_type": "code",
   "execution_count": 13,
   "metadata": {
    "id": "lHEf_Sa7C7xr"
   },
   "outputs": [],
   "source": [
    "lg = LogisticRegression(penalty='l1',solver='liblinear')\n",
    "sv = SVC(kernel='sigmoid',gamma=1.0)\n",
    "mnb = MultinomialNB()\n",
    "dtc = DecisionTreeClassifier(max_depth=5)\n",
    "knn = KNeighborsClassifier()\n",
    "rfc = RandomForestClassifier(n_estimators=50,random_state=2)\n",
    "etc = ExtraTreesClassifier(n_estimators=50,random_state=2)\n",
    "abc = AdaBoostClassifier(n_estimators=50,random_state=2)\n",
    "bg = BaggingClassifier(n_estimators=50,random_state=2)\n",
    "gbc = GradientBoostingClassifier(n_estimators=50,random_state=2)"
   ]
  },
  {
   "cell_type": "code",
   "execution_count": 16,
   "metadata": {
    "colab": {
     "base_uri": "https://localhost:8080/"
    },
    "id": "tTCQU77MGHTG",
    "outputId": "ca1e827d-3df3-499d-ff68-b688443617bf"
   },
   "outputs": [
    {
     "name": "stdout",
     "output_type": "stream",
     "text": [
      "Accuracy for LR: 0.935\n",
      "Accuracy for SVM: 0.945\n",
      "Accuracy for DTC: 0.8175\n",
      "Accuracy for KNN: 0.655\n",
      "Accuracy for RFC: 0.9275\n",
      "Accuracy for ETC: 0.9475\n",
      "Accuracy for ABC: 0.91\n",
      "Accuracy for BG: 0.93\n",
      "Accuracy for GBC: 0.9225\n",
      "F1 score for LR: 0.934010152284264\n",
      "F1 score for SVM: 0.9438775510204082\n",
      "F1 score for DTC: 0.8103896103896104\n",
      "F1 score for KNN: 0.649746192893401\n",
      "F1 score for RFC: 0.9265822784810127\n",
      "F1 score for ETC: 0.9465648854961832\n",
      "F1 score for ABC: 0.9095477386934674\n",
      "F1 score for BG: 0.9285714285714286\n",
      "F1 score for GBC: 0.9223057644110275\n"
     ]
    }
   ],
   "source": [
    "def prediction(model, X_train, X_test, y_train, y_test):\n",
    "    model.fit(X_train, y_train)\n",
    "    pr = model.predict(X_test)\n",
    "    acc_score = metrics.accuracy_score(y_test, pr)\n",
    "    f1 = metrics.f1_score(y_test, pr)\n",
    "    return acc_score, f1\n",
    "\n",
    "acc_score = {}\n",
    "f1_score = {}\n",
    "clfs = {\n",
    "    'LR': lg,\n",
    "    'SVM': sv,\n",
    "    'DTC': dtc,\n",
    "    'KNN': knn,\n",
    "    'RFC': rfc,\n",
    "    'ETC': etc,\n",
    "    'ABC': abc,\n",
    "    'BG': bg,\n",
    "    'GBC': gbc,\n",
    "}\n",
    "for name, clf in clfs.items():\n",
    "    acc_score[name], f1_score[name] = prediction(clf, X_train_tfidf, X_test_tfidf, y_train, y_test)\n",
    "\n",
    "# View those scores\n",
    "for name, acc in acc_score.items():\n",
    "    print(f'Accuracy for {name}: {acc}')\n",
    "\n",
    "for name, f1 in f1_score.items():\n",
    "    print(f'F1 score for {name}: {f1}')\n"
   ]
  }
 ],
 "metadata": {
  "colab": {
   "authorship_tag": "ABX9TyMHByqe8xBDrq6Fx/ajAToS",
   "include_colab_link": true,
   "provenance": []
  },
  "kernelspec": {
   "display_name": ".venv",
   "language": "python",
   "name": "python3"
  },
  "language_info": {
   "codemirror_mode": {
    "name": "ipython",
    "version": 3
   },
   "file_extension": ".py",
   "mimetype": "text/x-python",
   "name": "python",
   "nbconvert_exporter": "python",
   "pygments_lexer": "ipython3",
   "version": "3.12.7"
  }
 },
 "nbformat": 4,
 "nbformat_minor": 0
}
